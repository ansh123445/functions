{
 "cells": [
  {
   "cell_type": "code",
   "execution_count": 1,
   "id": "45d4d2df-3a9e-4e7f-8d79-faa3c001fd2a",
   "metadata": {},
   "outputs": [],
   "source": [
    "#theory questions.\n",
    "#que1.what is the difference between a function and a method in python.\n",
    "\n",
    "\n",
    "#Definition: A function is a block of code that is defined using the def keyword and can be called independently.Syntax: It is defined outside of any class.\n",
    "\n",
    "def my_function():\n",
    "    print(\"This is a function.\")\n"
   ]
  },
  {
   "cell_type": "code",
   "execution_count": 2,
   "id": "cd542beb-a736-421d-a8a3-d20d61e931fa",
   "metadata": {},
   "outputs": [
    {
     "name": "stdout",
     "output_type": "stream",
     "text": [
      "5\n"
     ]
    }
   ],
   "source": [
    "#que2.Explain the concept of functions arguments and parameters in python.\n",
    "\n",
    "#Parameters:Definition: Parameters are the variables listed inside the parentheses in the function definition.Purpose: They act as placeholders for the values (arguments) that are passed to the function when it is called.\n",
    "\n",
    "def my_function(param1, param2):\n",
    "    print(param1, param2)\n",
    "\n",
    "#Arguments:Definition: Arguments are the actual values that are passed to the function when it is called.\n",
    "\n",
    "#Positional Arguments: Passed to the function in the same order as the parameters are listed.Keyword Arguments: Passed to the function with the parameter names explicitly stated.Default Arguments: Parameters that have default values specified in the function definition.\n",
    "\n",
    "def add(a, b):\n",
    "    return a + b\n",
    "\n",
    "result = add(2, 3)  # 2 and 3 are positional arguments\n",
    "print(result)  # Output: 5\n"
   ]
  },
  {
   "cell_type": "code",
   "execution_count": 3,
   "id": "42f60287-b171-4ddb-8dad-ba5f85173867",
   "metadata": {},
   "outputs": [],
   "source": [
    "#que3.What are the different ways to define and call a function in python?\n",
    "\n",
    "# Standard Function DefinitionDefined using the def keyword.\n",
    "def my_function(param1, param2):\n",
    "    return param1 + param2\n",
    "\n",
    "\n",
    "#Functions with Default Arguments:Allows specifying default values for parameters.\n",
    "def greet(name, message=\"Hello\"):\n",
    "    print(f\"{message}, {name}\")\n"
   ]
  },
  {
   "cell_type": "code",
   "execution_count": 4,
   "id": "0961acd2-c5b3-4fd9-b089-c36e9538a8da",
   "metadata": {},
   "outputs": [
    {
     "name": "stdout",
     "output_type": "stream",
     "text": [
      "5\n",
      "True\n",
      "False\n"
     ]
    }
   ],
   "source": [
    "#que4.What is the purpose of the return statement in apython function?\n",
    "\n",
    "#Returning Values:The primary purpose of the return statement is to send a value back to the caller of the function. This allows the function to produce a result that can be used elsewhere in the program\n",
    "\n",
    "def add(a, b):\n",
    "    return a + b\n",
    "\n",
    "result = add(2, 3)\n",
    "print(result)  # Output: 5\n",
    "\n",
    "#Exiting a Function:The return statement immediately terminates the function's execution. Once a return statement is executed, the function stops running and control is returned to the caller.\n",
    "def check_even(number):\n",
    "    if number % 2 == 0:\n",
    "        return True\n",
    "    return False\n",
    "\n",
    "print(check_even(4))  # Output: True\n",
    "print(check_even(5))  # Output: False\n",
    "\n",
    "\n"
   ]
  },
  {
   "cell_type": "code",
   "execution_count": 5,
   "id": "5fca02f2-316f-476a-9cfe-4b32978571ae",
   "metadata": {},
   "outputs": [
    {
     "name": "stdout",
     "output_type": "stream",
     "text": [
      "1\n",
      "2\n",
      "3\n"
     ]
    }
   ],
   "source": [
    "#que5.What are iterators in python and how do they differ from iterables?\n",
    "\n",
    "#iterables:Definition: An iterable is any Python object capable of returning its members one at a time, permitting it to be iterated over in a loop. Examples include lists, tuples, strings, dictionaries, and sets.\n",
    "# List\n",
    "my_list = [1, 2, 3]\n",
    "\n",
    "# String\n",
    "my_string = \"hello\"\n",
    "\n",
    "#Iterator:An iterator is an object representing a stream of data; it returns the elements of the underlying iterable one at a time. It keeps track of its current position during iteration.\n",
    "\n",
    "# Creating an iterator from a list\n",
    "my_list = [1, 2, 3]\n",
    "iterator = iter(my_list)\n",
    "\n",
    "# Accessing elements\n",
    "print(next(iterator))  # Output: 1\n",
    "print(next(iterator))  # Output: 2\n",
    "print(next(iterator))  # Output: 3\n",
    "# next(iterator) would raise StopIteration at this point\n",
    "\n"
   ]
  },
  {
   "cell_type": "code",
   "execution_count": 6,
   "id": "4c741570-a069-45a0-b06e-a2f9821d073f",
   "metadata": {},
   "outputs": [
    {
     "name": "stdout",
     "output_type": "stream",
     "text": [
      "1\n",
      "2\n",
      "3\n",
      "0\n",
      "1\n",
      "4\n"
     ]
    }
   ],
   "source": [
    "#que6.Explain the concept of generators in python and how they are defined.\n",
    "\n",
    "# Defining Generators:Generators can be defined in two main ways:\n",
    "\n",
    "#Generator Functions:Defined using the def keyword and use the yield statement to return values one at a time.Each time yield is called, the generator function's state is saved, and it can be resumed later from where it left off.\n",
    "\n",
    "def simple_generator():\n",
    "    yield 1\n",
    "    yield 2\n",
    "    yield 3\n",
    "\n",
    "gen = simple_generator()\n",
    "\n",
    "print(next(gen))  # Output: 1\n",
    "print(next(gen))  # Output: 2\n",
    "print(next(gen))  # Output: 3\n",
    "# next(gen) would raise StopIteration at this point\n",
    "\n",
    "#Generator Expressions:Similar to list comprehensions but with parentheses instead of square brackets.More concise and memory-efficient for creating simple generators\n",
    "\n",
    "gen = (x * x for x in range(3))\n",
    "\n",
    "print(next(gen))  # Output: 0\n",
    "print(next(gen))  # Output: 1\n",
    "print(next(gen))  # Output: 4\n",
    "# next(gen) would raise StopIteration at this point\n"
   ]
  },
  {
   "cell_type": "code",
   "execution_count": 7,
   "id": "a210ba8f-f42b-4686-9860-7a823163e160",
   "metadata": {},
   "outputs": [
    {
     "name": "stdout",
     "output_type": "stream",
     "text": [
      "0\n",
      "1\n"
     ]
    }
   ],
   "source": [
    "#que7.What are the advantages of using generators over regular.\n",
    "\n",
    "#Memory Efficiency:Generators do not store all values in memory; instead, they generate values on the fly. This makes them highly memory-efficient, especially for large datasets or infinite sequences\n",
    "def large_range():\n",
    "    for i in range(1000000):\n",
    "        yield i\n",
    "\n",
    "gen = large_range()  # Uses minimal memory\n",
    "\n",
    "#Lazy Evaluation:Generators produce items only when they are requested using next(). This is known as lazy evaluation. It helps in improving performance as it avoids computing all values upfront.\n",
    "\n",
    "def infinite_sequence():\n",
    "    num = 0\n",
    "    while True:\n",
    "        yield num\n",
    "        num += 1\n",
    "\n",
    "gen = infinite_sequence()\n",
    "print(next(gen))  # Output: 0\n",
    "print(next(gen))  # Output: 1\n"
   ]
  },
  {
   "cell_type": "code",
   "execution_count": 8,
   "id": "079deb5f-663c-41ff-afc3-227fec58edee",
   "metadata": {},
   "outputs": [
    {
     "name": "stdout",
     "output_type": "stream",
     "text": [
      "5\n"
     ]
    }
   ],
   "source": [
    "#que8.What is a lambda function in python and when is it typically used?\n",
    "\n",
    "#A lambda function in Python is an anonymous function defined using the lambda keyword. Unlike regular functions defined using the def keyword, lambda functions are typically small, single-expression functions that can be written in a more compact and readable way. They are often used for short, throwaway functions that are not meant to be reused elsewhere in the code.\n",
    "\n",
    "#syntax:lambda arguments: expression\n",
    "#1.Short, Simple Functions:Lambda functions are typically used for short and simple operations where defining a full function using def would be overkill.\n",
    "#2.Inline Function Definitions:Used in places where functions are required as arguments, such as in functional programming constructs like map(), filter(), and sorted().\n",
    "\n",
    "# Regular function\n",
    "def add(a, b):\n",
    "    return a + b\n",
    "\n",
    "# Lambda function\n",
    "add = lambda a, b: a + b\n",
    "\n",
    "# Usage\n",
    "result = add(2, 3)\n",
    "print(result)  # Output: 5\n"
   ]
  },
  {
   "cell_type": "code",
   "execution_count": 9,
   "id": "c233a97c-2f8b-4092-bb56-81e6c1974c30",
   "metadata": {},
   "outputs": [
    {
     "name": "stdout",
     "output_type": "stream",
     "text": [
      "[1, 4, 9, 16, 25]\n"
     ]
    }
   ],
   "source": [
    "#que9.Explain the purpose and usage of the map() function in python.\n",
    "\n",
    "#The map() function in Python is a built-in function that applies a given function to all items in an iterable (like a list or tuple) and returns an iterator (or map object) of the results. It is often used to transform or process data elements in a collection.\n",
    "#syntax:map(function, iterable, ...)\n",
    "\n",
    "#1.Applying a Function to Each ElementThe most common use case is to apply a function to each element in a list or other iterable.\n",
    "#2.Using Lambda Functions with map()Lambda functions are often used with map() for simplicity, especially for small, anonymous functions.\n",
    "\n",
    "numbers = [1, 2, 3, 4, 5]\n",
    "squared = map(lambda x: x * x, numbers)\n",
    "print(list(squared))  # Output: [1, 4, 9, 16, 25]\n"
   ]
  },
  {
   "cell_type": "code",
   "execution_count": 10,
   "id": "0946ed10-f07d-4fa2-9c1d-8d3d9631a7d8",
   "metadata": {},
   "outputs": [],
   "source": [
    "#que10.What is the difference between map(),reduce(),and filter() functions in python?\n",
    "\n",
    "\n",
    "#map() Function:Purpose: Applies a given function to each item in an iterable (like a list or tuple) and returns an iterator (or map object) of the results.\n",
    "\n",
    "#Syntax:map(function, iterable, ...)\n",
    "#usage:Transforms the elements of an iterable.Can take multiple iterables and apply the function to corresponding elements\n",
    "\n",
    "#filter() Function:Purpose: Filters elements from an iterable based on a function that returns a boolean value. It returns an iterator containing only the elements for which the function returns True.\n",
    "\n",
    "#syntax:filter(function, iterable)\n",
    "\n",
    "\n",
    "#reduce function:Purpose: Applies a given function cumulatively to the items of an iterable, from left to right, to reduce the iterable to a single value. It is part of the functools module.\n",
    "#syntax:reduce(function, iterable, initializer=None)\n"
   ]
  },
  {
   "cell_type": "code",
   "execution_count": 11,
   "id": "78a1e8de-a4da-4de1-a8f5-e1b4656b4f08",
   "metadata": {},
   "outputs": [
    {
     "name": "stdout",
     "output_type": "stream",
     "text": [
      "12\n"
     ]
    }
   ],
   "source": [
    "#que1:Write a python function that takes a list of numbers as input and returns the sum of all even numbers in the list.\n",
    "\n",
    "def sum_of_even_numbers(numbers):\n",
    "    return sum(number for number in numbers if number % 2 == 0)\n",
    "\n",
    "\n",
    "numbers = [1, 2, 3, 4, 5, 6]\n",
    "result = sum_of_even_numbers(numbers)\n",
    "print(result)  \n"
   ]
  },
  {
   "cell_type": "code",
   "execution_count": 12,
   "id": "5c020128-d42f-48fc-a0e6-7998f269563d",
   "metadata": {},
   "outputs": [
    {
     "name": "stdout",
     "output_type": "stream",
     "text": [
      "olleh\n"
     ]
    }
   ],
   "source": [
    "#que2.create a python function that acceptsa string and returns the reverse of that string.\n",
    "\n",
    "def reverse_string(s):\n",
    "    return s[::-1]\n",
    "\n",
    "# Example usage\n",
    "input_string = \"hello\"\n",
    "reversed_string = reverse_string(input_string)\n",
    "print(reversed_string)  # Output: \"olleh\"\n"
   ]
  },
  {
   "cell_type": "code",
   "execution_count": 13,
   "id": "7c69ba71-5629-462c-9d72-8b96d90856f4",
   "metadata": {},
   "outputs": [
    {
     "name": "stdout",
     "output_type": "stream",
     "text": [
      "[1, 4, 9, 16, 25]\n"
     ]
    }
   ],
   "source": [
    "#que3.Implement a python function that takes a list of integers and returns a new list containing the squares of each number.\n",
    "\n",
    "def square_numbers(numbers):\n",
    "    return [number ** 2 for number in numbers]\n",
    "\n",
    "# Example usage\n",
    "input_list = [1, 2, 3, 4, 5]\n",
    "squared_list = square_numbers(input_list)\n",
    "print(squared_list)  # Output: [1, 4, 9, 16, 25]\n"
   ]
  },
  {
   "cell_type": "code",
   "execution_count": 14,
   "id": "0f3c7dc2-11ae-4003-ae9f-77b46d679c7a",
   "metadata": {},
   "outputs": [
    {
     "name": "stdout",
     "output_type": "stream",
     "text": [
      "Is 29 a prime number? True\n",
      "[2, 3, 5, 7, 11, 13, 17, 19, 23, 29, 31, 37, 41, 43, 47, 53, 59, 61, 67, 71, 73, 79, 83, 89, 97, 101, 103, 107, 109, 113, 127, 131, 137, 139, 149, 151, 157, 163, 167, 173, 179, 181, 191, 193, 197, 199]\n"
     ]
    }
   ],
   "source": [
    "#que4.Write a python function that checks if a fiven number is prime or not from 1 to 200.\n",
    "\n",
    "def is_prime(n):\n",
    "    if n <= 1:\n",
    "        return False\n",
    "    for i in range(2, int(n ** 0.5) + 1):\n",
    "        if n % i == 0:\n",
    "            return False\n",
    "    return True\n",
    "\n",
    "# Example usage\n",
    "number = 29\n",
    "result = is_prime(number)\n",
    "print(f\"Is {number} a prime number? {result}\")  # Output: Is 29 a prime number? True\n",
    "\n",
    "# Checking all numbers from 1 to 200\n",
    "primes = [num for num in range(1, 201) if is_prime(num)]\n",
    "print(primes)  # Output: List of prime numbers from 1 to 200\n"
   ]
  },
  {
   "cell_type": "code",
   "execution_count": 15,
   "id": "4ed19da9-2e70-4473-b435-c0c4e0055afe",
   "metadata": {},
   "outputs": [
    {
     "name": "stdout",
     "output_type": "stream",
     "text": [
      "0\n",
      "1\n",
      "1\n",
      "2\n",
      "3\n",
      "5\n",
      "8\n",
      "13\n",
      "21\n",
      "34\n"
     ]
    }
   ],
   "source": [
    "#que5.create an iterator class in python that generates the fibonacci sequence upto a specified number of terms.\n",
    "\n",
    "class FibonacciIterator:\n",
    "    def __init__(self, num_terms):\n",
    "        self.num_terms = num_terms\n",
    "        self.current_term = 0\n",
    "        self.a, self.b = 0, 1\n",
    "\n",
    "    def __iter__(self):\n",
    "        return self\n",
    "\n",
    "    def __next__(self):\n",
    "        if self.current_term >= self.num_terms:\n",
    "            raise StopIteration\n",
    "        if self.current_term == 0:\n",
    "            self.current_term += 1\n",
    "            return self.a\n",
    "        elif self.current_term == 1:\n",
    "            self.current_term += 1\n",
    "            return self.b\n",
    "        else:\n",
    "            self.a, self.b = self.b, self.a + self.b\n",
    "            self.current_term += 1\n",
    "            return self.b\n",
    "\n",
    "# Example usage\n",
    "num_terms = 10\n",
    "fib_iterator = FibonacciIterator(num_terms)\n",
    "for num in fib_iterator:\n",
    "    print(num)\n"
   ]
  },
  {
   "cell_type": "code",
   "execution_count": 16,
   "id": "a0292df1-0149-4496-a77e-544361cd11eb",
   "metadata": {},
   "outputs": [
    {
     "name": "stdout",
     "output_type": "stream",
     "text": [
      "1\n",
      "2\n",
      "4\n",
      "8\n",
      "16\n",
      "32\n",
      "64\n",
      "128\n",
      "256\n",
      "512\n",
      "1024\n"
     ]
    }
   ],
   "source": [
    "#que6.Write a generator function in python that yields the power of 2 upto a given exponent.\n",
    "\n",
    "def powers_of_two(max_exponent):\n",
    "    for exponent in range(max_exponent + 1):\n",
    "        yield 2 ** exponent\n",
    "\n",
    "# Example usage\n",
    "max_exponent = 10\n",
    "for value in powers_of_two(max_exponent):\n",
    "    print(value)\n"
   ]
  },
  {
   "cell_type": "code",
   "execution_count": 17,
   "id": "7746693c-34a3-4cbd-8c93-9a5a875c4bfe",
   "metadata": {},
   "outputs": [
    {
     "ename": "FileNotFoundError",
     "evalue": "[Errno 2] No such file or directory: 'example.txt'",
     "output_type": "error",
     "traceback": [
      "\u001b[0;31m---------------------------------------------------------------------------\u001b[0m",
      "\u001b[0;31mFileNotFoundError\u001b[0m                         Traceback (most recent call last)",
      "Cell \u001b[0;32mIn[17], line 10\u001b[0m\n\u001b[1;32m      8\u001b[0m \u001b[38;5;66;03m# Example usage\u001b[39;00m\n\u001b[1;32m      9\u001b[0m file_path \u001b[38;5;241m=\u001b[39m \u001b[38;5;124m'\u001b[39m\u001b[38;5;124mexample.txt\u001b[39m\u001b[38;5;124m'\u001b[39m  \u001b[38;5;66;03m# Replace with the path to your file\u001b[39;00m\n\u001b[0;32m---> 10\u001b[0m \u001b[38;5;28;01mfor\u001b[39;00m line \u001b[38;5;129;01min\u001b[39;00m read_file_line_by_line(file_path):\n\u001b[1;32m     11\u001b[0m     \u001b[38;5;28mprint\u001b[39m(line)\n",
      "Cell \u001b[0;32mIn[17], line 4\u001b[0m, in \u001b[0;36mread_file_line_by_line\u001b[0;34m(file_path)\u001b[0m\n\u001b[1;32m      3\u001b[0m \u001b[38;5;28;01mdef\u001b[39;00m \u001b[38;5;21mread_file_line_by_line\u001b[39m(file_path):\n\u001b[0;32m----> 4\u001b[0m     \u001b[38;5;28;01mwith\u001b[39;00m \u001b[38;5;28;43mopen\u001b[39;49m\u001b[43m(\u001b[49m\u001b[43mfile_path\u001b[49m\u001b[43m,\u001b[49m\u001b[43m \u001b[49m\u001b[38;5;124;43m'\u001b[39;49m\u001b[38;5;124;43mr\u001b[39;49m\u001b[38;5;124;43m'\u001b[39;49m\u001b[43m)\u001b[49m \u001b[38;5;28;01mas\u001b[39;00m file:\n\u001b[1;32m      5\u001b[0m         \u001b[38;5;28;01mfor\u001b[39;00m line \u001b[38;5;129;01min\u001b[39;00m file:\n\u001b[1;32m      6\u001b[0m             \u001b[38;5;28;01myield\u001b[39;00m line\u001b[38;5;241m.\u001b[39mrstrip(\u001b[38;5;124m'\u001b[39m\u001b[38;5;130;01m\\n\u001b[39;00m\u001b[38;5;124m'\u001b[39m)\n",
      "File \u001b[0;32m/opt/conda/lib/python3.10/site-packages/IPython/core/interactiveshell.py:282\u001b[0m, in \u001b[0;36m_modified_open\u001b[0;34m(file, *args, **kwargs)\u001b[0m\n\u001b[1;32m    275\u001b[0m \u001b[38;5;28;01mif\u001b[39;00m file \u001b[38;5;129;01min\u001b[39;00m {\u001b[38;5;241m0\u001b[39m, \u001b[38;5;241m1\u001b[39m, \u001b[38;5;241m2\u001b[39m}:\n\u001b[1;32m    276\u001b[0m     \u001b[38;5;28;01mraise\u001b[39;00m \u001b[38;5;167;01mValueError\u001b[39;00m(\n\u001b[1;32m    277\u001b[0m         \u001b[38;5;124mf\u001b[39m\u001b[38;5;124m\"\u001b[39m\u001b[38;5;124mIPython won\u001b[39m\u001b[38;5;124m'\u001b[39m\u001b[38;5;124mt let you open fd=\u001b[39m\u001b[38;5;132;01m{\u001b[39;00mfile\u001b[38;5;132;01m}\u001b[39;00m\u001b[38;5;124m by default \u001b[39m\u001b[38;5;124m\"\u001b[39m\n\u001b[1;32m    278\u001b[0m         \u001b[38;5;124m\"\u001b[39m\u001b[38;5;124mas it is likely to crash IPython. If you know what you are doing, \u001b[39m\u001b[38;5;124m\"\u001b[39m\n\u001b[1;32m    279\u001b[0m         \u001b[38;5;124m\"\u001b[39m\u001b[38;5;124myou can use builtins\u001b[39m\u001b[38;5;124m'\u001b[39m\u001b[38;5;124m open.\u001b[39m\u001b[38;5;124m\"\u001b[39m\n\u001b[1;32m    280\u001b[0m     )\n\u001b[0;32m--> 282\u001b[0m \u001b[38;5;28;01mreturn\u001b[39;00m \u001b[43mio_open\u001b[49m\u001b[43m(\u001b[49m\u001b[43mfile\u001b[49m\u001b[43m,\u001b[49m\u001b[43m \u001b[49m\u001b[38;5;241;43m*\u001b[39;49m\u001b[43margs\u001b[49m\u001b[43m,\u001b[49m\u001b[43m \u001b[49m\u001b[38;5;241;43m*\u001b[39;49m\u001b[38;5;241;43m*\u001b[39;49m\u001b[43mkwargs\u001b[49m\u001b[43m)\u001b[49m\n",
      "\u001b[0;31mFileNotFoundError\u001b[0m: [Errno 2] No such file or directory: 'example.txt'"
     ]
    }
   ],
   "source": [
    "#que7.Implement a generator function that reads a file ine by line and yields each line as a string.\n",
    "\n",
    "def read_file_line_by_line(file_path):\n",
    "    with open(file_path, 'r') as file:\n",
    "        for line in file:\n",
    "            yield line.rstrip('\\n')\n",
    "\n",
    "# Example usage\n",
    "file_path = 'example.txt'  # Replace with the path to your file\n",
    "for line in read_file_line_by_line(file_path):\n",
    "    print(line)\n"
   ]
  },
  {
   "cell_type": "code",
   "execution_count": 18,
   "id": "cc481eed-c720-4d4a-8a66-2c8fef74a6dc",
   "metadata": {},
   "outputs": [
    {
     "name": "stdout",
     "output_type": "stream",
     "text": [
      "[(4, 1), (5, 2), (1, 3), (2, 4)]\n"
     ]
    }
   ],
   "source": [
    "#que8.Use a lambda function in python to sort a list of tuples based on the secound element of each tuple.\n",
    "\n",
    "# Sample list of tuples\n",
    "list_of_tuples = [(1, 3), (4, 1), (5, 2), (2, 4)]\n",
    "\n",
    "# Sort the list of tuples based on the second element of each tuple\n",
    "sorted_list = sorted(list_of_tuples, key=lambda x: x[1])\n",
    "\n",
    "# Print the sorted list\n",
    "print(sorted_list)\n"
   ]
  },
  {
   "cell_type": "code",
   "execution_count": 19,
   "id": "7918f5d7-3b42-44df-905d-17a6c1068daa",
   "metadata": {},
   "outputs": [
    {
     "name": "stdout",
     "output_type": "stream",
     "text": [
      "[32.0, 68.0, 98.6, 212.0]\n"
     ]
    }
   ],
   "source": [
    "#que9.Write a python program that uses map() to convert a list of temperature from celsius to farheneit.\n",
    "\n",
    "\n",
    "# Function to convert Celsius to Fahrenheit\n",
    "def celsius_to_fahrenheit(celsius):\n",
    "    return (celsius * 9/5) + 32\n",
    "\n",
    "# Sample list of temperatures in Celsius\n",
    "temperatures_celsius = [0, 20, 37, 100]\n",
    "\n",
    "# Use map() to convert the list of temperatures to Fahrenheit\n",
    "temperatures_fahrenheit = map(celsius_to_fahrenheit, temperatures_celsius)\n",
    "\n",
    "# Convert the map object to a list and print the result\n",
    "print(list(temperatures_fahrenheit))\n"
   ]
  },
  {
   "cell_type": "code",
   "execution_count": 20,
   "id": "48e7bb56-4eb5-4f9f-8445-2c7cf5d52ff7",
   "metadata": {},
   "outputs": [
    {
     "name": "stdout",
     "output_type": "stream",
     "text": [
      "Hll, Wrld!\n"
     ]
    }
   ],
   "source": [
    "#que10.create a python program that uses filter() to remove all thr vowela from a given string.\n",
    "\n",
    "# Function to check if a character is not a vowel\n",
    "def is_not_vowel(char):\n",
    "    vowels = 'aeiouAEIOU'\n",
    "    return char not in vowels\n",
    "\n",
    "# Input string\n",
    "input_string = \"Hello, World!\"\n",
    "\n",
    "# Use filter() to remove vowels from the input string\n",
    "filtered_string = ''.join(filter(is_not_vowel, input_string))\n",
    "\n",
    "# Print the result\n",
    "print(filtered_string)\n"
   ]
  },
  {
   "cell_type": "code",
   "execution_count": null,
   "id": "b422511a-50d7-4531-a4db-c47d5c204513",
   "metadata": {},
   "outputs": [],
   "source": []
  }
 ],
 "metadata": {
  "kernelspec": {
   "display_name": "Python 3 (ipykernel)",
   "language": "python",
   "name": "python3"
  },
  "language_info": {
   "codemirror_mode": {
    "name": "ipython",
    "version": 3
   },
   "file_extension": ".py",
   "mimetype": "text/x-python",
   "name": "python",
   "nbconvert_exporter": "python",
   "pygments_lexer": "ipython3",
   "version": "3.10.8"
  }
 },
 "nbformat": 4,
 "nbformat_minor": 5
}
